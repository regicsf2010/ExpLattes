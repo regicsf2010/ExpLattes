{
 "cells": [
  {
   "cell_type": "markdown",
   "id": "fd194464-f43f-4655-ae36-4cd6f648923e",
   "metadata": {},
   "source": [
    "# **Imports do projeto**"
   ]
  },
  {
   "cell_type": "code",
   "execution_count": null,
   "id": "da22c887-7617-4115-9410-36136c9f7e43",
   "metadata": {},
   "outputs": [],
   "source": [
    "from classes.Pesquisador import Pesquisador\n",
    "import util.Recless as rc\n",
    "import util.Vis as vis\n",
    "import xml.etree.ElementTree as et"
   ]
  },
  {
   "cell_type": "markdown",
   "id": "d4402acc-e9d2-4172-a7e9-c912f4f6d646",
   "metadata": {
    "tags": []
   },
   "source": [
    "# **Etapas do ExpLattes**"
   ]
  },
  {
   "cell_type": "markdown",
   "id": "f220bf7b-938b-4aad-87ad-24d8ea6c6830",
   "metadata": {},
   "source": [
    "## Variáveis"
   ]
  },
  {
   "cell_type": "code",
   "execution_count": null,
   "id": "daad3d82-47d3-48db-b1a9-404085f8c8ff",
   "metadata": {},
   "outputs": [],
   "source": [
    "id_cnpq = '4362051219348099'\n",
    "path = 'temp'"
   ]
  },
  {
   "cell_type": "markdown",
   "id": "2624a08c-0c5e-4f4a-8a14-664657dab6a7",
   "metadata": {},
   "source": [
    "## 1) Download automático de Currículo Lattes (CL)"
   ]
  },
  {
   "cell_type": "code",
   "execution_count": null,
   "id": "0d588497-4b99-4bae-b8bf-3a380480851f",
   "metadata": {},
   "outputs": [],
   "source": [
    "rc.downloadCL(id_cnpq = id_cnpq, save_path = path)"
   ]
  },
  {
   "cell_type": "markdown",
   "id": "c343f204-74ef-4af6-a3b7-15bf4b77950e",
   "metadata": {},
   "source": [
    "## 2) Pré-processamento dos dados"
   ]
  },
  {
   "cell_type": "code",
   "execution_count": null,
   "id": "5575e745-e494-4834-bfbb-f389822a0f00",
   "metadata": {},
   "outputs": [],
   "source": [
    "rc.convert_zip2xml(id_cnpq, in_path = path, out_path = path)"
   ]
  },
  {
   "cell_type": "markdown",
   "id": "f34157fd-bfa9-4003-b570-35f68d169a0d",
   "metadata": {},
   "source": [
    "## 3) Extração de informações relevantes"
   ]
  },
  {
   "cell_type": "code",
   "execution_count": null,
   "id": "5ddf9cc1-b65f-4488-a020-5cc8f7e9808e",
   "metadata": {},
   "outputs": [],
   "source": [
    "file = f'{path}/{id_cnpq}.xml'\n",
    "root = et.parse(file).getroot()\n",
    "p = Pesquisador(root)"
   ]
  },
  {
   "cell_type": "code",
   "execution_count": null,
   "id": "38322f61-d1f9-4338-938c-110b48a43355",
   "metadata": {},
   "outputs": [],
   "source": [
    "print(p)"
   ]
  },
  {
   "cell_type": "markdown",
   "id": "19514459-714d-442a-8c77-87858e1087fa",
   "metadata": {},
   "source": [
    "## 4) Visualizações"
   ]
  },
  {
   "cell_type": "code",
   "execution_count": null,
   "id": "73fbd4f7-1bc4-4648-92f5-bf7f58692ffd",
   "metadata": {
    "tags": []
   },
   "outputs": [],
   "source": [
    "print('\\n\\nRESUMO DE BANCAS')\n",
    "vis.plot_bancas(p.bancas, w = 10, h = 8)"
   ]
  },
  {
   "cell_type": "code",
   "execution_count": null,
   "id": "38222675-f93d-44d0-b632-44d218993967",
   "metadata": {
    "tags": []
   },
   "outputs": [],
   "source": [
    "print('\\n\\nRESUMO DE PRODUÇÕES')\n",
    "vis.plot_producoes(p.producoes, w = 10, h = 8)"
   ]
  },
  {
   "cell_type": "code",
   "execution_count": null,
   "id": "11e5f9ad-49fb-4204-a105-706479a716f2",
   "metadata": {
    "tags": []
   },
   "outputs": [],
   "source": [
    "print('\\n\\nRESUMO DE PROJETOS')\n",
    "vis.plot_projetos(p.projetos, w = 10, h = 8)"
   ]
  },
  {
   "cell_type": "code",
   "execution_count": null,
   "id": "13e92910-84f1-4cca-a2d8-f727e0b37c3b",
   "metadata": {
    "tags": []
   },
   "outputs": [],
   "source": [
    "print('\\n\\nRESUMO DE ORIENTAÇÕES')\n",
    "vis.plot_orientacoes(p.orientacoes, w = 10, h = 8)"
   ]
  },
  {
   "cell_type": "code",
   "execution_count": null,
   "id": "f06e0080-f009-474f-9bbb-ecbeecb40575",
   "metadata": {
    "tags": []
   },
   "outputs": [],
   "source": [
    "print('\\n\\nRESUMO DE FORÇAS: ORIENTAÇÕES, BANCAS, PROJETOS E PRODUÇÕES')\n",
    "vis.plot_radar_orientacoes(p.orientacoes, w = 10, h = 8)"
   ]
  },
  {
   "cell_type": "code",
   "execution_count": null,
   "id": "29e5e870-6d96-4873-ab90-1a9e03d67029",
   "metadata": {},
   "outputs": [],
   "source": [
    "print('\\n\\nRESUMO DE FORÇAS: ORIENTAÇÕES, BANCAS, PROJETOS E PRODUÇÕES')\n",
    "vis.plot_radar_bancas(p.bancas, w = 10, h = 8)"
   ]
  },
  {
   "cell_type": "code",
   "execution_count": null,
   "id": "82edda2f-7860-4f8d-a6a1-3d35e22f955a",
   "metadata": {},
   "outputs": [],
   "source": [
    "print('\\n\\nRESUMO DE FORÇAS: ORIENTAÇÕES, BANCAS, PROJETOS E PRODUÇÕES')\n",
    "vis.plot_radar_projetos(p.projetos, w = 10, h = 8)"
   ]
  },
  {
   "cell_type": "code",
   "execution_count": null,
   "id": "0ff00b0e-5973-45da-96bc-65f4af6f6ed4",
   "metadata": {},
   "outputs": [],
   "source": [
    "print('\\n\\nRESUMO DE FORÇAS: ORIENTAÇÕES, BANCAS, PROJETOS E PRODUÇÕES')\n",
    "vis.plot_radar_producoes(p.producoes, w = 10, h = 8)"
   ]
  },
  {
   "cell_type": "code",
   "execution_count": null,
   "id": "684c4b91-cefc-4960-b4ab-34f83977eff2",
   "metadata": {},
   "outputs": [],
   "source": [
    "vis.plot_wordcloud(p.producoes, path = path, n_words = 200, bg_color = 'white', with_bg = True)"
   ]
  }
 ],
 "metadata": {
  "kernelspec": {
   "display_name": "Python 3 (ipykernel)",
   "language": "python",
   "name": "python3"
  },
  "language_info": {
   "codemirror_mode": {
    "name": "ipython",
    "version": 3
   },
   "file_extension": ".py",
   "mimetype": "text/x-python",
   "name": "python",
   "nbconvert_exporter": "python",
   "pygments_lexer": "ipython3",
   "version": "3.8.10"
  }
 },
 "nbformat": 4,
 "nbformat_minor": 5
}
